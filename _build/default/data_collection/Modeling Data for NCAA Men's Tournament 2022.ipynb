{
 "cells": [
  {
   "cell_type": "code",
   "execution_count": 4,
   "metadata": {},
   "outputs": [],
   "source": [
    "import numpy as np\n",
    "import pandas as pd\n",
    "import random as rd\n",
    "from sportsipy.ncaab.teams import Teams"
   ]
  },
  {
   "cell_type": "code",
   "execution_count": 5,
   "metadata": {},
   "outputs": [],
   "source": [
    "#For Each Season/Year: Team, PPG, OPPG, Wins, Losses, PCT (wins/(wins+losses))\n",
    "#Just do 2021 Year for now. Include tournaments. https://sportsipy.readthedocs.io/en/latest/ncaab.html#sportsipy.ncaab.teams.Team.block_percentage"
   ]
  },
  {
   "cell_type": "code",
   "execution_count": 6,
   "metadata": {},
   "outputs": [],
   "source": [
    "teams = Teams(year=\"2021\")\n",
    "team_name=[]\n",
    "team_num_wins=[]\n",
    "team_num_losses=[]\n",
    "team_sos=[]\n",
    "team_pct=[]\n",
    "team_total_p=[] #Mean points scored\n",
    "team_total_op=[] # Mean points allowed\n",
    "for team in teams:\n",
    "    team_name.append(team.name)\n",
    "    team_num_wins.append(team.wins)\n",
    "    team_num_losses.append(team.losses)\n",
    "    team_pct.append(team.win_percentage)\n",
    "    team_sos.append(team.strength_of_schedule)\n",
    "    team_total_p.append(team.points)\n",
    "    team_total_op.append(team.opp_points)"
   ]
  },
  {
   "cell_type": "code",
   "execution_count": 7,
   "metadata": {},
   "outputs": [],
   "source": [
    "team_stat_df=pd.DataFrame()\n",
    "team_stat_df[\"team_name\"]=team_name\n",
    "team_stat_df[\"wins\"]=team_num_wins\n",
    "team_stat_df[\"losses\"]=team_num_losses\n",
    "team_stat_df[\"pct\"]=team_pct\n",
    "team_stat_df[\"strength_schedule\"]=team_sos\n",
    "team_stat_df[\"ppg\"]=team_total_p\n",
    "team_stat_df[\"oppg\"]=team_total_op\n",
    "team_stat_df[\"ppg\"]=team_stat_df[\"ppg\"]/(team_stat_df[\"wins\"]+team_stat_df[\"losses\"])\n",
    "team_stat_df[\"oppg\"]=team_stat_df[\"oppg\"]/(team_stat_df[\"wins\"]+team_stat_df[\"losses\"])"
   ]
  },
  {
   "cell_type": "code",
   "execution_count": 8,
   "metadata": {},
   "outputs": [],
   "source": [
    "team_stat_df.head()\n",
    "team_stat_df.to_csv(\"sports_stats_\"+\"2021\")"
   ]
  },
  {
   "cell_type": "code",
   "execution_count": null,
   "metadata": {},
   "outputs": [],
   "source": [
    "def extract_ncaab_data(year_string)\n",
    "#takes in string of year\n",
    "    teams = Teams(year=year_string)\n",
    "    #Extract stats\n",
    "    team_name=[]\n",
    "    team_num_wins=[]\n",
    "    team_num_losses=[]\n",
    "    team_sos=[]\n",
    "    team_pct=[]\n",
    "    team_total_p=[] #Mean points scored\n",
    "    team_total_op=[] # Mean points allowed\n",
    "    for team in teams:\n",
    "        team_name.append(team.name)\n",
    "        team_num_wins.append(team.wins)\n",
    "        team_num_losses.append(team.losses)\n",
    "        team_pct.append(team.win_percentage)\n",
    "        team_sos.append(team.strength_of_schedule)\n",
    "        team_total_p.append(team.points)\n",
    "        team_total_op.append(team.opp_points)\n",
    "    #Convert stats into dataframe\n",
    "    team_stat_df=pd.DataFrame()\n",
    "    team_stat_df[\"team_name\"]=team_name\n",
    "    team_stat_df[\"wins\"]=team_num_wins\n",
    "    team_stat_df[\"losses\"]=team_num_losses\n",
    "    team_stat_df[\"pct\"]=team_pct\n",
    "    team_stat_df[\"strength_schedule\"]=team_sos\n",
    "    team_stat_df[\"ppg\"]=team_total_p\n",
    "    team_stat_df[\"oppg\"]=team_total_op\n",
    "    team_stat_df[\"ppg\"]=team_stat_df[\"ppg\"]/(team_stat_df[\"wins\"]+team_stat_df[\"losses\"])\n",
    "    team_stat_df[\"oppg\"]=team_stat_df[\"oppg\"]/(team_stat_df[\"wins\"]+team_stat_df[\"losses\"])\n",
    "    team_stat_df.to_csv(\"sports_stats_\"+year_str)"
   ]
  }
 ],
 "metadata": {
  "kernelspec": {
   "display_name": "Python 3",
   "language": "python",
   "name": "python3"
  },
  "language_info": {
   "codemirror_mode": {
    "name": "ipython",
    "version": 3
   },
   "file_extension": ".py",
   "mimetype": "text/x-python",
   "name": "python",
   "nbconvert_exporter": "python",
   "pygments_lexer": "ipython3",
   "version": "3.7.5"
  }
 },
 "nbformat": 4,
 "nbformat_minor": 4
}
